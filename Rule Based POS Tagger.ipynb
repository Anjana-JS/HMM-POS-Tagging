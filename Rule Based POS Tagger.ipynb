{
 "cells": [
  {
   "cell_type": "code",
   "execution_count": 1,
   "id": "3a055df9",
   "metadata": {},
   "outputs": [
    {
     "name": "stdout",
     "output_type": "stream",
     "text": [
      "Requirement already satisfied: nltk in c:\\users\\user\\anaconda3\\lib\\site-packages (3.7)Note: you may need to restart the kernel to use updated packages.\n",
      "\n",
      "Requirement already satisfied: joblib in c:\\users\\user\\anaconda3\\lib\\site-packages (from nltk) (1.1.1)\n",
      "Requirement already satisfied: click in c:\\users\\user\\anaconda3\\lib\\site-packages (from nltk) (8.0.4)\n",
      "Requirement already satisfied: tqdm in c:\\users\\user\\anaconda3\\lib\\site-packages (from nltk) (4.64.1)\n",
      "Requirement already satisfied: regex>=2021.8.3 in c:\\users\\user\\anaconda3\\lib\\site-packages (from nltk) (2022.7.9)\n",
      "Requirement already satisfied: colorama in c:\\users\\user\\anaconda3\\lib\\site-packages (from click->nltk) (0.4.6)\n"
     ]
    }
   ],
   "source": [
    "pip install nltk"
   ]
  },
  {
   "cell_type": "code",
   "execution_count": 2,
   "id": "9ff5fe7a",
   "metadata": {},
   "outputs": [
    {
     "data": {
      "text/plain": [
       "[[('Pierre', 'NNP'),\n",
       "  ('Vinken', 'NNP'),\n",
       "  (',', ','),\n",
       "  ('61', 'CD'),\n",
       "  ('years', 'NNS'),\n",
       "  ('old', 'JJ'),\n",
       "  (',', ','),\n",
       "  ('will', 'MD'),\n",
       "  ('join', 'VB'),\n",
       "  ('the', 'DT'),\n",
       "  ('board', 'NN'),\n",
       "  ('as', 'IN'),\n",
       "  ('a', 'DT'),\n",
       "  ('nonexecutive', 'JJ'),\n",
       "  ('director', 'NN'),\n",
       "  ('Nov.', 'NNP'),\n",
       "  ('29', 'CD'),\n",
       "  ('.', '.')],\n",
       " [('Mr.', 'NNP'),\n",
       "  ('Vinken', 'NNP'),\n",
       "  ('is', 'VBZ'),\n",
       "  ('chairman', 'NN'),\n",
       "  ('of', 'IN'),\n",
       "  ('Elsevier', 'NNP'),\n",
       "  ('N.V.', 'NNP'),\n",
       "  (',', ','),\n",
       "  ('the', 'DT'),\n",
       "  ('Dutch', 'NNP'),\n",
       "  ('publishing', 'VBG'),\n",
       "  ('group', 'NN'),\n",
       "  ('.', '.')],\n",
       " [('Rudolph', 'NNP'),\n",
       "  ('Agnew', 'NNP'),\n",
       "  (',', ','),\n",
       "  ('55', 'CD'),\n",
       "  ('years', 'NNS'),\n",
       "  ('old', 'JJ'),\n",
       "  ('and', 'CC'),\n",
       "  ('former', 'JJ'),\n",
       "  ('chairman', 'NN'),\n",
       "  ('of', 'IN'),\n",
       "  ('Consolidated', 'NNP'),\n",
       "  ('Gold', 'NNP'),\n",
       "  ('Fields', 'NNP'),\n",
       "  ('PLC', 'NNP'),\n",
       "  (',', ','),\n",
       "  ('was', 'VBD'),\n",
       "  ('named', 'VBN'),\n",
       "  ('*-1', '-NONE-'),\n",
       "  ('a', 'DT'),\n",
       "  ('nonexecutive', 'JJ'),\n",
       "  ('director', 'NN'),\n",
       "  ('of', 'IN'),\n",
       "  ('this', 'DT'),\n",
       "  ('British', 'JJ'),\n",
       "  ('industrial', 'JJ'),\n",
       "  ('conglomerate', 'NN'),\n",
       "  ('.', '.')]]"
      ]
     },
     "execution_count": 2,
     "metadata": {},
     "output_type": "execute_result"
    }
   ],
   "source": [
    "# Importing libraries\n",
    "import nltk\n",
    "import numpy as np\n",
    "import pandas as pd\n",
    "import pprint, time\n",
    "import random\n",
    "from sklearn.model_selection import train_test_split\n",
    "from nltk.tokenize import word_tokenize\n",
    "import math\n",
    "# reading the Treebank tagged sentences\n",
    "wsj = list(nltk.corpus.treebank.tagged_sents())\n",
    "# samples: Each sentence is a list of (word, pos) tuples\n",
    "wsj[:3]"
   ]
  },
  {
   "cell_type": "code",
   "execution_count": null,
   "id": "32aa724b",
   "metadata": {},
   "outputs": [],
   "source": [
    "#In the list mentioned above, each element corresponds to a sentence and is followed by a full stop ‘.’ which also serves as its POS tag. \n",
    "#Therefore, the POS tag ‘.’ signifies the end of a sentence.\n",
    "\n",
    "#Furthermore, it is not necessary for the corpus to be segmented into sentences. \n",
    "#Instead, we can use a list of tuples that contain both the word and its corresponding POS tag.\n",
    "\n",
    "#To accomplish this, we will convert the original list into a list of (word, tag) tuples."
   ]
  },
  {
   "cell_type": "code",
   "execution_count": 3,
   "id": "97a0e4c6",
   "metadata": {},
   "outputs": [
    {
     "name": "stdout",
     "output_type": "stream",
     "text": [
      "100676\n"
     ]
    },
    {
     "data": {
      "text/plain": [
       "[('Pierre', 'NNP'),\n",
       " ('Vinken', 'NNP'),\n",
       " (',', ','),\n",
       " ('61', 'CD'),\n",
       " ('years', 'NNS'),\n",
       " ('old', 'JJ'),\n",
       " (',', ','),\n",
       " ('will', 'MD'),\n",
       " ('join', 'VB'),\n",
       " ('the', 'DT')]"
      ]
     },
     "execution_count": 3,
     "metadata": {},
     "output_type": "execute_result"
    }
   ],
   "source": [
    "# converting the list of sents to a list of (word, pos tag) tuples\n",
    "tagged_words = [tup for sent in wsj for tup in sent]\n",
    "print(len(tagged_words))\n",
    "tagged_words[:10]"
   ]
  },
  {
   "cell_type": "markdown",
   "id": "6a6a7ee5",
   "metadata": {},
   "source": [
    "Exploratory Data Analysis\n",
    "How many unique tags are present in the corpus?\n",
    "What is the most commonly occurring tag in the corpus?\n",
    "Which tag is most frequently assigned to the words “bank” and “executive”?"
   ]
  },
  {
   "cell_type": "code",
   "execution_count": 16,
   "id": "289ef7b9",
   "metadata": {},
   "outputs": [
    {
     "name": "stdout",
     "output_type": "stream",
     "text": [
      "('principal', 'NN')\n"
     ]
    }
   ],
   "source": [
    "print(random.choice(tagged_words))"
   ]
  },
  {
   "cell_type": "code",
   "execution_count": 17,
   "id": "75d05843",
   "metadata": {},
   "outputs": [
    {
     "data": {
      "text/plain": [
       "46"
      ]
     },
     "execution_count": 17,
     "metadata": {},
     "output_type": "execute_result"
    }
   ],
   "source": [
    "# question 1: Find the number of unique POS tags in the corpus\n",
    "# you can use the set() function on the list of tags to get a unique set of tags, \n",
    "# and compute its length\n",
    "tags = [pair[1] for pair in tagged_words]\n",
    "unique_tags = set(tags)\n",
    "len(unique_tags)"
   ]
  },
  {
   "cell_type": "code",
   "execution_count": 5,
   "id": "892a0900",
   "metadata": {},
   "outputs": [
    {
     "data": {
      "text/plain": [
       "Counter({'NNP': 9410,\n",
       "         ',': 4886,\n",
       "         'CD': 3546,\n",
       "         'NNS': 6047,\n",
       "         'JJ': 5834,\n",
       "         'MD': 927,\n",
       "         'VB': 2554,\n",
       "         'DT': 8165,\n",
       "         'NN': 13166,\n",
       "         'IN': 9857,\n",
       "         '.': 3874,\n",
       "         'VBZ': 2125,\n",
       "         'VBG': 1460,\n",
       "         'CC': 2265,\n",
       "         'VBD': 3043,\n",
       "         'VBN': 2134,\n",
       "         '-NONE-': 6592,\n",
       "         'RB': 2822,\n",
       "         'TO': 2179,\n",
       "         'PRP': 1716,\n",
       "         'RBR': 136,\n",
       "         'WDT': 445,\n",
       "         'VBP': 1321,\n",
       "         'RP': 216,\n",
       "         'PRP$': 766,\n",
       "         'JJS': 182,\n",
       "         'POS': 824,\n",
       "         '``': 712,\n",
       "         'EX': 88,\n",
       "         \"''\": 694,\n",
       "         'WP': 241,\n",
       "         ':': 563,\n",
       "         'JJR': 381,\n",
       "         'WRB': 178,\n",
       "         '$': 724,\n",
       "         'NNPS': 244,\n",
       "         'WP$': 14,\n",
       "         '-LRB-': 120,\n",
       "         '-RRB-': 126,\n",
       "         'PDT': 27,\n",
       "         'RBS': 35,\n",
       "         'FW': 4,\n",
       "         'UH': 3,\n",
       "         'SYM': 1,\n",
       "         'LS': 13,\n",
       "         '#': 16})"
      ]
     },
     "execution_count": 5,
     "metadata": {},
     "output_type": "execute_result"
    }
   ],
   "source": [
    "# question 2: Which is the most frequent tag in the corpus\n",
    "# to count the frequency of elements in a list, the Counter() class from collections\n",
    "# module is very useful, as shown below\n",
    "from collections import Counter\n",
    "tag_counts = Counter(tags)\n",
    "tag_counts"
   ]
  },
  {
   "cell_type": "code",
   "execution_count": 6,
   "id": "9c471fcf",
   "metadata": {},
   "outputs": [
    {
     "data": {
      "text/plain": [
       "[('NN', 13166), ('IN', 9857), ('NNP', 9410), ('DT', 8165), ('-NONE-', 6592)]"
      ]
     },
     "execution_count": 6,
     "metadata": {},
     "output_type": "execute_result"
    }
   ],
   "source": [
    "# the most common tags can be seen using the most_common() method of Counter\n",
    "tag_counts.most_common(5)"
   ]
  },
  {
   "cell_type": "markdown",
   "id": "6d6a5757",
   "metadata": {},
   "source": [
    "Thus, NN is the most common tag followed by IN, NNP, DT, -NONE- etc."
   ]
  },
  {
   "cell_type": "code",
   "execution_count": 7,
   "id": "0863eb78",
   "metadata": {},
   "outputs": [
    {
     "data": {
      "text/plain": [
       "[('bank', 'NN'),\n",
       " ('Bank', 'NNP'),\n",
       " ('bank', 'NN'),\n",
       " ('Bank', 'NNP'),\n",
       " ('bank', 'NN'),\n",
       " ('Bank', 'NNP'),\n",
       " ('bank', 'NN'),\n",
       " ('Bank', 'NNP'),\n",
       " ('bank', 'NN'),\n",
       " ('bank', 'NN'),\n",
       " ('bank', 'NN'),\n",
       " ('Bank', 'NNP'),\n",
       " ('Bank', 'NNP'),\n",
       " ('Bank', 'NNP'),\n",
       " ('Bank', 'NNP'),\n",
       " ('bank', 'NN'),\n",
       " ('bank', 'NN'),\n",
       " ('bank', 'NN'),\n",
       " ('bank', 'NN'),\n",
       " ('bank', 'NN'),\n",
       " ('Bank', 'NNP'),\n",
       " ('Bank', 'NNP'),\n",
       " ('Bank', 'NNP'),\n",
       " ('bank', 'NN'),\n",
       " ('Bank', 'NNP'),\n",
       " ('Bank', 'NNP'),\n",
       " ('bank', 'NN'),\n",
       " ('Bank', 'NNP'),\n",
       " ('Bank', 'NNP'),\n",
       " ('bank', 'NN'),\n",
       " ('bank', 'NN'),\n",
       " ('Bank', 'NNP'),\n",
       " ('bank', 'NN'),\n",
       " ('bank', 'NN'),\n",
       " ('bank', 'NN'),\n",
       " ('Bank', 'NNP'),\n",
       " ('bank', 'NN'),\n",
       " ('bank', 'NN'),\n",
       " ('bank', 'NN'),\n",
       " ('bank', 'NN'),\n",
       " ('bank', 'NN'),\n",
       " ('Bank', 'NNP'),\n",
       " ('Bank', 'NNP'),\n",
       " ('Bank', 'NNP'),\n",
       " ('bank', 'NN'),\n",
       " ('Bank', 'NNP'),\n",
       " ('Bank', 'NNP'),\n",
       " ('Bank', 'NNP'),\n",
       " ('Bank', 'NNP'),\n",
       " ('Bank', 'NNP'),\n",
       " ('Bank', 'NNP'),\n",
       " ('Bank', 'NNP'),\n",
       " ('Bank', 'NNP'),\n",
       " ('Bank', 'NNP'),\n",
       " ('bank', 'NN'),\n",
       " ('bank', 'NN'),\n",
       " ('Bank', 'NNP'),\n",
       " ('bank', 'NN'),\n",
       " ('bank', 'NN'),\n",
       " ('Bank', 'NNP'),\n",
       " ('bank', 'NN'),\n",
       " ('bank', 'NN'),\n",
       " ('bank', 'NN'),\n",
       " ('bank', 'NN'),\n",
       " ('bank', 'NN'),\n",
       " ('bank', 'NN'),\n",
       " ('bank', 'NN'),\n",
       " ('bank', 'NN'),\n",
       " ('Bank', 'NNP'),\n",
       " ('bank', 'NN')]"
      ]
     },
     "execution_count": 7,
     "metadata": {},
     "output_type": "execute_result"
    }
   ],
   "source": [
    "# question 3: Which tag is most commonly assigned to the word \"bank\".\n",
    "bank = [pair for pair in tagged_words if pair[0].lower() == 'bank']\n",
    "bank"
   ]
  },
  {
   "cell_type": "code",
   "execution_count": 8,
   "id": "dd0d050b",
   "metadata": {},
   "outputs": [
    {
     "data": {
      "text/plain": [
       "[('executive', 'NN'),\n",
       " ('executive', 'JJ'),\n",
       " ('executive', 'JJ'),\n",
       " ('executive', 'NN'),\n",
       " ('executive', 'NN'),\n",
       " ('executive', 'NN'),\n",
       " ('executive', 'NN'),\n",
       " ('executive', 'NN'),\n",
       " ('executive', 'NN'),\n",
       " ('executive', 'NN'),\n",
       " ('executive', 'NN'),\n",
       " ('executive', 'NN'),\n",
       " ('executive', 'NN'),\n",
       " ('executive', 'JJ'),\n",
       " ('executive', 'JJ'),\n",
       " ('executive', 'JJ'),\n",
       " ('executive', 'NN'),\n",
       " ('executive', 'JJ'),\n",
       " ('executive', 'NN'),\n",
       " ('executive', 'NN'),\n",
       " ('executive', 'NN'),\n",
       " ('executive', 'NN'),\n",
       " ('executive', 'NN'),\n",
       " ('executive', 'NN'),\n",
       " ('executive', 'NN'),\n",
       " ('executive', 'NN'),\n",
       " ('executive', 'JJ'),\n",
       " ('executive', 'JJ'),\n",
       " ('executive', 'JJ'),\n",
       " ('executive', 'JJ'),\n",
       " ('executive', 'JJ'),\n",
       " ('executive', 'NN'),\n",
       " ('executive', 'NN'),\n",
       " ('executive', 'NN'),\n",
       " ('executive', 'NN'),\n",
       " ('executive', 'NN'),\n",
       " ('executive', 'JJ'),\n",
       " ('executive', 'NN'),\n",
       " ('executive', 'NN'),\n",
       " ('executive', 'NN'),\n",
       " ('executive', 'JJ'),\n",
       " ('executive', 'JJ'),\n",
       " ('executive', 'JJ'),\n",
       " ('executive', 'JJ'),\n",
       " ('executive', 'JJ'),\n",
       " ('executive', 'NN'),\n",
       " ('executive', 'NN'),\n",
       " ('executive', 'JJ'),\n",
       " ('executive', 'JJ'),\n",
       " ('executive', 'NN'),\n",
       " ('executive', 'JJ'),\n",
       " ('executive', 'JJ'),\n",
       " ('executive', 'NN'),\n",
       " ('executive', 'NN'),\n",
       " ('executive', 'JJ'),\n",
       " ('executive', 'NN'),\n",
       " ('executive', 'JJ'),\n",
       " ('executive', 'JJ'),\n",
       " ('executive', 'NN'),\n",
       " ('executive', 'NN'),\n",
       " ('executive', 'NN'),\n",
       " ('executive', 'JJ'),\n",
       " ('executive', 'NN'),\n",
       " ('executive', 'NN'),\n",
       " ('executive', 'JJ'),\n",
       " ('executive', 'JJ'),\n",
       " ('executive', 'NN'),\n",
       " ('executive', 'JJ')]"
      ]
     },
     "execution_count": 8,
     "metadata": {},
     "output_type": "execute_result"
    }
   ],
   "source": [
    "# question 3: Which tag is most commonly assigned to the word \"executive\".\n",
    "executive = [pair for pair in tagged_words if pair[0].lower() == 'executive']\n",
    "executive"
   ]
  },
  {
   "cell_type": "code",
   "execution_count": 18,
   "id": "09ec9e55",
   "metadata": {},
   "outputs": [
    {
     "name": "stdout",
     "output_type": "stream",
     "text": [
      "2739\n",
      "1175\n",
      "[[('The', 'DT'), ('House', 'NNP'), ('and', 'CC'), ('Senate', 'NNP'), ('are', 'VBP'), ('divided', 'VBN'), ('*-6', '-NONE-'), ('over', 'IN'), ('whether', 'IN'), ('the', 'DT'), ('United', 'NNP'), ('Nations', 'NNPS'), ('Population', 'NNP'), ('Fund', 'NNP'), ('will', 'MD'), ('receive', 'VB'), ('any', 'DT'), ('portion', 'NN'), ('of', 'IN'), ('these', 'DT'), ('appropriations', 'NNS'), (',', ','), ('but', 'CC'), ('the', 'DT'), ('size', 'NN'), ('of', 'IN'), ('the', 'DT'), ('increase', 'NN'), ('is', 'VBZ'), ('itself', 'PRP'), ('significant', 'JJ'), ('.', '.')], [('-LRB-', '-LRB-'), ('Fewer', 'JJR'), ('said', 'VBD'), ('0', '-NONE-'), ('conditions', 'NNS'), ('wo', 'MD'), (\"n't\", 'RB'), ('change', 'VB'), ('.', '.'), ('-RRB-', '-RRB-')]]\n"
     ]
    }
   ],
   "source": [
    "# splitting into train and test sets\n",
    "random.seed(1234)\n",
    "train_set, test_set = train_test_split(wsj, test_size=0.3)\n",
    "print(len(train_set))\n",
    "print(len(test_set))\n",
    "print(train_set[:2])"
   ]
  },
  {
   "cell_type": "code",
   "execution_count": 23,
   "id": "ad641553",
   "metadata": {},
   "outputs": [
    {
     "data": {
      "text/plain": [
       "0.8729672722324284"
      ]
     },
     "execution_count": 23,
     "metadata": {},
     "output_type": "execute_result"
    }
   ],
   "source": [
    "#Let’s now try training a lexicon (or a unigram) tagger which assigns the most commonly assigned tag to a word.\n",
    "\n",
    "#In NLTK, the UnigramTagger() can be used to train such a model.\n",
    "\n",
    "# Lexicon (or unigram tagger)\n",
    "unigram_tagger = nltk.UnigramTagger(train_set)\n",
    "unigram_tagger.accuracy(test_set)"
   ]
  },
  {
   "cell_type": "markdown",
   "id": "3f22cc9e",
   "metadata": {},
   "source": [
    "Rule-Based (Regular Expression) Tagger\n",
    "Let’s now move on to building a rule-based tagger, which utilizes regular expressions. In NLTK, we can use the RegexpTagger() to provide handwritten regular expression patterns for our tagger.\n",
    "\n",
    "For example, we can specify regexes for various grammatical forms such as gerunds and past tense verbs, 3rd singular present verbs (e.g., creates, moves, makes), modal verbs (e.g., should, would, could), possessive nouns (e.g., partner’s, bank’s), plural nouns (e.g., banks, institutions), cardinal numbers (CD), and so on. In case none of these rules are applicable to a word, we can assign the most frequent tag NN to it."
   ]
  },
  {
   "cell_type": "code",
   "execution_count": 22,
   "id": "abde9160",
   "metadata": {},
   "outputs": [
    {
     "data": {
      "text/plain": [
       "0.21586037966932026"
      ]
     },
     "execution_count": 22,
     "metadata": {},
     "output_type": "execute_result"
    }
   ],
   "source": [
    "# specify patterns for tagging\n",
    "# example from the NLTK book\n",
    "patterns = [\n",
    "    (r'.*ing$', 'VBG'),              # gerund\n",
    "    (r'.*ed$', 'VBD'),               # past tense\n",
    "    (r'.*es$', 'VBZ'),               # 3rd singular present\n",
    "    (r'.*ould$', 'MD'),              # modals\n",
    "    (r'.*\\'s$', 'NN$'),              # possessive nouns\n",
    "    (r'.*s$', 'NNS'),                # plural nouns\n",
    "    (r'^-?[0-9]+(.[0-9]+)?$', 'CD'), # cardinal numbers\n",
    "    (r'.*', 'NN')                    # nouns\n",
    "]\n",
    "regexp_tagger = nltk.RegexpTagger(patterns)\n",
    "regexp_tagger.accuracy(test_set)"
   ]
  },
  {
   "cell_type": "markdown",
   "id": "8b6bc618",
   "metadata": {},
   "source": [
    "Combining Taggers\n",
    "Let’s explore the possibility of combining the taggers we created earlier. As we saw earlier, the rule-based tagger on its own is not very effective due to the limited number of rules we have written. However, by combining the lexicon and rule-based taggers, we have the potential to create a tagger that performs better than either of the individual ones.\n",
    "\n",
    "NLTK provides a convenient method to combine taggers using the ‘backup’ argument. In the following code, we create a regex tagger to act as a backup to the lexicon tagger. In other words, if the lexicon tagger is unable to tag a word (e.g., a new word not in the vocabulary), it will use the rule-based tagger to assign a tag. Additionally, note that the rule-based tagger itself is backed up by the ‘NN’ tag."
   ]
  },
  {
   "cell_type": "code",
   "execution_count": 24,
   "id": "4a1aed27",
   "metadata": {},
   "outputs": [
    {
     "data": {
      "text/plain": [
       "0.9049125671905831"
      ]
     },
     "execution_count": 24,
     "metadata": {},
     "output_type": "execute_result"
    }
   ],
   "source": [
    "# rule based tagger\n",
    "rule_based_tagger = nltk.RegexpTagger(patterns)\n",
    "# lexicon backed up by the rule-based tagger\n",
    "lexicon_tagger = nltk.UnigramTagger(train_set, backoff=rule_based_tagger)\n",
    "lexicon_tagger.accuracy(test_set)"
   ]
  },
  {
   "cell_type": "markdown",
   "id": "9dbb6e97",
   "metadata": {},
   "source": [
    "So, as we can observe by combining the taggers our accuracy is increased to 90.49% even higher than the lexicon-based tagger."
   ]
  }
 ],
 "metadata": {
  "kernelspec": {
   "display_name": "Python 3 (ipykernel)",
   "language": "python",
   "name": "python3"
  },
  "language_info": {
   "codemirror_mode": {
    "name": "ipython",
    "version": 3
   },
   "file_extension": ".py",
   "mimetype": "text/x-python",
   "name": "python",
   "nbconvert_exporter": "python",
   "pygments_lexer": "ipython3",
   "version": "3.10.9"
  }
 },
 "nbformat": 4,
 "nbformat_minor": 5
}
